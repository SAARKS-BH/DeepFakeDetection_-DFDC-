{
 "cells": [
  {
   "cell_type": "code",
   "execution_count": 1,
   "id": "eb8274b0-7089-43f3-9bfb-9a1aae787101",
   "metadata": {},
   "outputs": [],
   "source": [
    "import os\n",
    "import shutil\n",
    "import json"
   ]
  },
  {
   "cell_type": "code",
   "execution_count": 9,
   "id": "f58a29f5-d5a9-4a76-868b-b48cb4ba4c6b",
   "metadata": {},
   "outputs": [],
   "source": [
    "# Define paths for the metadata file, the videos directory, and the destination directories\n",
    "metadata_path = 'metadata.json'                   # Path to your metadata file\n",
    "videos_path = 'train_sample_videos/'              # Directory where all videos are initially located\n",
    "real_videos_path = 'separated_dataset/Real/'      # Destination directory for real videos\n",
    "fake_videos_path = 'separated_dataset/Fake/'      # Destination directory for fake videos"
   ]
  },
  {
   "cell_type": "code",
   "execution_count": 10,
   "id": "4aa82f02-cc57-4c33-bd47-8e9f14ea9e37",
   "metadata": {},
   "outputs": [],
   "source": [
    "# Ensuring the destination directories exist. If not, create them.\n",
    "os.makedirs(real_videos_path, exist_ok=True)\n",
    "os.makedirs(fake_videos_path, exist_ok=True)"
   ]
  },
  {
   "cell_type": "code",
   "execution_count": 11,
   "id": "b999cad8-c654-4f83-927b-f1ccde3d57da",
   "metadata": {},
   "outputs": [],
   "source": [
    "# Loading metadata from the JSON file\n",
    "with open(metadata_path, 'r') as file:\n",
    "    metadata = json.load(file)  # Parsing the JSON content into a Python dictionary"
   ]
  },
  {
   "cell_type": "code",
   "execution_count": 14,
   "id": "83e9db82-6e81-448f-bd3e-b25cceaf9140",
   "metadata": {},
   "outputs": [],
   "source": [
    "# Check if there are files in the source directory\n",
    "video_files = [f for f in os.listdir(videos_path) if os.path.isfile(os.path.join(videos_path, f))]\n"
   ]
  },
  {
   "cell_type": "code",
   "execution_count": 15,
   "id": "56e84e5f-c66a-4b79-ada2-b73ab7e8f936",
   "metadata": {},
   "outputs": [
    {
     "name": "stdout",
     "output_type": "stream",
     "text": [
      "Files are already moved or the folder is empty.\n"
     ]
    }
   ],
   "source": [
    "if not video_files:\n",
    "    print(\"Files are already moved or the folder is empty.\")\n",
    "else:\n",
    "    # Iterate over each video entry in the metadata\n",
    "    for file_name, attributes in metadata.items():\n",
    "        label = attributes['label']\n",
    "        \n",
    "        # Determine the source path for the video\n",
    "        source_path = os.path.join(videos_path, file_name)\n",
    "        \n",
    "        # Determine the destination path based on the label\n",
    "        if label == 'real':\n",
    "            destination_path = os.path.join(real_videos_path, file_name)\n",
    "        elif label == 'fake':\n",
    "            destination_path = os.path.join(fake_videos_path, file_name)\n",
    "        else:\n",
    "            print(f\"Unrecognized label for {file_name}: {label}\")\n",
    "            continue\n",
    "\n",
    "        # Check if the file exists before moving\n",
    "        if os.path.exists(source_path):\n",
    "            shutil.move(source_path, destination_path)\n",
    "        else:\n",
    "            print(f\"File {file_name} not found in {videos_path}\")\n",
    "\n",
    "    print(\"Videos have been successfully organized into 'Real' and 'Fake' folders.\")\n",
    "\n"
   ]
  },
  {
   "cell_type": "code",
   "execution_count": null,
   "id": "f6f94929-4304-478c-aadb-687beedca6bc",
   "metadata": {},
   "outputs": [],
   "source": []
  }
 ],
 "metadata": {
  "kernelspec": {
   "display_name": "myCUDA",
   "language": "python",
   "name": "cuda"
  },
  "language_info": {
   "codemirror_mode": {
    "name": "ipython",
    "version": 3
   },
   "file_extension": ".py",
   "mimetype": "text/x-python",
   "name": "python",
   "nbconvert_exporter": "python",
   "pygments_lexer": "ipython3",
   "version": "3.11.7"
  }
 },
 "nbformat": 4,
 "nbformat_minor": 5
}
